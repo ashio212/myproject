import numpy as np
import matplotlib.pyplot as plt
from dataclasses import dataclass

c = 299_792_458.0  # speed of light [m/s]

# =============================
#  パラメータ定義
# =============================
@dataclass
class RadarParams:
    fc: float = 76.5e9             # 送信中心周波数 [Hz]
    B: float = 3.0e9               # チャープ帯域 [Hz]
    T_chirp: float = 40e-6         # チャープ時間 [s] (PRI)
    fs: float = 60e6               # ADC サンプリング周波数 [Hz]
    M: int = 128                   # 1フレーム内のチャープ数 (= slow-time 長)
    N_ant: int = 8                 # ULA 受信素子数
    d: float = None                # 素子間隔 [m]（既定: λ/2）
    noise_power: float = 1e-4      # 受信ホワイトノイズ電力

    def __post_init__(self):
        if self.d is None:
            self.d = (c / self.fc) / 2  # λ/2

    @property
    def lam(self):
        return c / self.fc

    @property
    def S(self):
        return self.B / self.T_chirp     # チャープスロープ [Hz/s]

    @property
    def N_s(self):
        return int(self.fs * self.T_chirp)  # 1 チャープ当たりのサンプル数

    # 目安: 速度のアンビギュイティ (±v_max)
    @property
    def v_max(self):
        return (self.lam / 4) / self.T_chirp

    # 距離分解能
    @property
    def dr(self):
        return c / (2 * self.B)


@dataclass
class Target:
    R0: float           # 初期距離 [m]
    v: float            # 速度 [m/s] (レーダに向かう正方向)
    angle_deg: float    # 方位角 [deg] (ULA 正面 = 0)
    rcs: float = 1.0    # 振幅スケール (RCS 相当)


# =============================
#  シミュレーション本体
# =============================

def simulate_fmcw_cube(params: RadarParams, targets: list[Target], radar_speed: float = 0.0, seed: int = 0):
    """FMCW 受信 IQ 立方体を生成
    返り値: cube (Na, M, N)  = (アンテナ, チャープ, ファストタイム)
    """
    rng = np.random.default_rng(seed)
    Na, M, N = params.N_ant, params.M, params.N_s
    lam, S, fs, T = params.lam, params.S, params.fs, params.T_chirp

    t_fast = np.arange(N) / fs                # fast-time within one chirp
    n_chirp = np.arange(M)                    # chirp index (slow-time)
    m_idx = np.arange(Na)                     # antenna index (ULA)

    cube = np.zeros((Na, M, N), dtype=np.complex128)

    for tgt in targets:
        v_rel = tgt.v - radar_speed           # 自車運動を考慮した相対速度
        fd = 2 * v_rel / lam                  # ドップラー周波数 [Hz]

        # チャープ毎のレンジ (線形移動近似)
        R_n = tgt.R0 + v_rel * n_chirp * T    # shape (M,)
        tau_n = 2 * R_n / c                   # 遅延 [s]
        f_r_n = S * tau_n                     # fast-time のビート周波数 [Hz]

        # 位相項の分解
        term_fast = np.exp(1j * 2*np.pi * (f_r_n[:, None] * t_fast[None, :]))      # (M, N)
        term_slow = np.exp(1j * 2*np.pi * (fd * n_chirp * T))[:, None]             # (M, 1)
        phi_m = 2*np.pi * (params.d/lam) * np.sin(np.deg2rad(tgt.angle_deg)) * m_idx
        term_spat = np.exp(1j * phi_m)[:, None, None]                               # (Na,1,1)

        # 距離による減衰 (1/R^2) を簡易に付与
        amp_n = (tgt.rcs / (R_n**2 + 1e-12))[:, None]                               # (M,1)

        cube += term_spat * (term_slow * term_fast * amp_n)                         # (Na, M, N)

    # ホワイトノイズ
    noise = (rng.normal(scale=np.sqrt(params.noise_power/2), size=cube.shape)
             + 1j * rng.normal(scale=np.sqrt(params.noise_power/2), size=cube.shape))
    cube += noise
    return cube


# =============================
#  信号処理ユーティリティ
# =============================

def range_doppler(cube: np.ndarray, params: RadarParams):
    """レンジ–ドップラー処理
    入力: cube (Na, M, N)
    出力: RD_map (M, Nr), ranges [m], velocities [m/s], Xrd (Na, M, Nr)
    """
    Na, M, N = cube.shape
    # 窓掛け (レンジ/ドップラー)
    win_r = np.hanning(N)[None, None, :]
    win_d = np.hanning(M)[None, :, None]
    X = cube * win_r

    # レンジ FFT (fast-time)
    Xr = np.fft.fft(X, n=N, axis=2)[:, :, : N//2]                                   # (Na, M, Nr)

    # ドップラー FFT (slow-time)
    Xr *= win_d
    Xrd = np.fft.fftshift(np.fft.fft(Xr, n=M, axis=1), axes=1)                      # (Na, M, Nr)

    # アンテナ非相干和で RD を作成
    RD = (np.abs(Xrd) ** 2).sum(axis=0)                                             # (M, Nr)

    # 軸の計算
    k = np.arange(N//2)
    fb = k * params.fs / N                                                          # beat freq [Hz]
    ranges = c * fb / (2 * params.S)                                               # R = c*fb/(2S)

    fd_bins = (np.arange(M) - M/2) / (M * params.T_chirp)                           # [Hz]
    velocities = (params.lam / 2) * fd_bins                                        # v = (λ/2) f_D

    return RD, ranges, velocities, Xrd


def doa_bartlett(Xrd: np.ndarray, params: RadarParams, angle_grid_deg=None,
                 range_bin: int | None = None, doppler_bin: int | None = None,
                 average_over_doppler: bool = False):
    """Bartlett 法による DOA スペクトル (指定レンジ/ドップラーのスナップショット)
    Xrd: (Na, M, Nr)
    戻り値: angle_grid_deg, P_db, sel_range_bin, sel_doppler_bin
    """
    Na, M, Nr = Xrd.shape
    if angle_grid_deg is None:
        angle_grid_deg = np.linspace(-90, 90, 181)

    lam = params.lam
    m_idx = np.arange(Na)
    theta = np.deg2rad(angle_grid_deg)
    A = np.exp(1j * 2*np.pi * (params.d/lam) * np.sin(theta)[None, :] * m_idx[:, None])  # (Na, Nt)

    # スナップショット選択
    if range_bin is None:
        pwr = (np.abs(Xrd) ** 2).sum(axis=1)             # (Na を無視して) (M, Nr) の強度から選ぶ
        range_bin = np.argmax(pwr.sum(axis=0))
    if average_over_doppler:
        x = Xrd[:, :, range_bin].mean(axis=1)[:, None]    # (Na,1)
        P = np.abs(A.conj().T @ x) ** 2                   # (Nt,1)
    else:
        if doppler_bin is None:
            p = (np.abs(Xrd[:, :, range_bin]) ** 2).sum(axis=0)   # (M,)
            doppler_bin = int(np.argmax(p))
        x = Xrd[:, doppler_bin, range_bin][:, None]
        P = np.abs(A.conj().T @ x) ** 2

    P = P.squeeze()
    P_db = 10 * np.log10(P / (P.max() + 1e-12) + 1e-12)
    return angle_grid_deg, P_db, range_bin, doppler_bin


def range_angle_map(Xr: np.ndarray, params: RadarParams, angle_grid_deg=None):
    """レンジ–アングル (RA) マップ (Bartlett)
    入力: Xr = レンジ FFT 済み (Na, M, Nr)
    戻り値: angle_grid_deg, RA_db (Nt, Nr)
    """
    Na, M, Nr = Xr.shape
    if angle_grid_deg is None:
        angle_grid_deg = np.linspace(-90, 90, 181)

    lam = params.lam
    m_idx = np.arange(Na)
    theta = np.deg2rad(angle_grid_deg)
    A = np.exp(1j * 2*np.pi * (params.d/lam) * np.sin(theta)[None, :] * m_idx[:, None])  # (Na, Nt)

    Xmean = Xr.mean(axis=1)  # (Na, Nr)
    RA = np.zeros((len(angle_grid_deg), Nr))
    for r in range(Nr):
        x = Xmean[:, r][:, None]
        P = np.abs(A.conj().T @ x) ** 2
        RA[:, r] = P[:, 0]

    RA_db = 10 * np.log10(RA / (RA.max() + 1e-12) + 1e-12)
    return angle_grid_deg, RA_db


# =============================
#  可視化ヘルパ
# =============================

def plot_range_doppler(RD, ranges, velocities, title="Range–Doppler (dB)"):
    RD_db = 10 * np.log10(RD / (RD.max() + 1e-12) + 1e-12)
    plt.figure(figsize=(7, 5))
    extent = [ranges[0], ranges[-1], velocities[0], velocities[-1]]
    plt.imshow(RD_db.T, origin="lower", aspect="auto", extent=extent, cmap="jet")
    plt.colorbar(label="Power [dB]")
    plt.xlabel("Range [m]")
    plt.ylabel("Velocity [m/s]")
    plt.title(title)
    plt.tight_layout()


def plot_doa(angle_grid_deg, P_db, title="DOA (Bartlett)"):
    plt.figure(figsize=(6, 3.2))
    plt.plot(angle_grid_deg, P_db)
    plt.xlabel("Angle [deg]")
    plt.ylabel("Power [dB]")
    plt.title(title)
    plt.grid(True)
    plt.tight_layout()


def plot_range_angle(angle_grid_deg, RA_db, ranges, title="Range–Angle (dB)"):
    plt.figure(figsize=(7, 5))
    extent = [ranges[0], ranges[-1], angle_grid_deg[0], angle_grid_deg[-1]]
    plt.imshow(RA_db, origin="lower", aspect="auto", extent=extent, cmap="jet")
    plt.colorbar(label="Power [dB]")
    plt.xlabel("Range [m]")
    plt.ylabel("Angle [deg]")
    plt.title(title)
    plt.tight_layout()


# =============================
#  デモ: シーン1 (レーダ静止)
# =============================
if __name__ == "__main__":
    params = RadarParams()

    # 速度分離が分かりやすい 2 ターゲット (距離は 60 m 未満を推奨: fs, T_chirp 設定との整合)
    targets_stationary = [
        Target(R0=25.0, v=+20.0, angle_deg=+10.0, rcs=1.0),  # 接近
        Target(R0=45.0, v=-8.0,  angle_deg=-20.0, rcs=1.2),  # 遠ざかる
    ]

    print(f"N_s = {params.N_s} samples/chirp, Δr = {params.dr*100:.1f} cm, v_max ≈ ±{params.v_max:.1f} m/s")

    cube1 = simulate_fmcw_cube(params, targets_stationary, radar_speed=0.0, seed=1)
    RD1, ranges1, vels1, Xrd1 = range_doppler(cube1, params)

    # 可視化: RD マップ
    plot_range_doppler(RD1, ranges1, vels1, title="Range–Doppler (Radar static)")

    # DOA (最大セルを自動選択) と RA マップ
    ang_grid, P_db, rbin, dbin = doa_bartlett(Xrd1, params)
    plot_doa(ang_grid, P_db, title=f"DOA (Radar static)  @RangeBin={rbin}, DopplerBin={dbin}")

    # RA マップ (レンジ FFT 後のデータから生成)
    # 速度成分の平均化で DOA のみを強調 (動ターゲットでも角度ピークは観測可)
    Xr1 = np.fft.fft(cube1 * np.hanning(params.N_s)[None, None, :], axis=2)[:, :, : params.N_s//2]
    ang_grid_ra, RA_db = range_angle_map(Xr1, params)
    plot_range_angle(ang_grid_ra, RA_db, ranges1, title="Range–Angle (Radar static)")

    # =============================
    #  デモ: シーン2 (自車が前進)
    # =============================
    radar_speed = 10.0  # [m/s]
    cube2 = simulate_fmcw_cube(params, targets_stationary, radar_speed=radar_speed, seed=2)
    RD2, ranges2, vels2, Xrd2 = range_doppler(cube2, params)

    plot_range_doppler(RD2, ranges2, vels2, title=f"Range–Doppler (Radar moving {radar_speed} m/s)")

    ang_grid2, P_db2, rbin2, dbin2 = doa_bartlett(Xrd2, params)
    plot_doa(ang_grid2, P_db2, title=f"DOA (Radar moving {radar_speed} m/s)  @RangeBin={rbin2}, DopplerBin={dbin2}")

    Xr2 = np.fft.fft(cube2 * np.hanning(params.N_s)[None, None, :], axis=2)[:, :, : params.N_s//2]
    ang_grid_ra2, RA_db2 = range_angle_map(Xr2, params)
    plot_range_angle(ang_grid_ra2, RA_db2, ranges2, title=f"Range–Angle (Radar moving {radar_speed} m/s)")

    plt.show()
